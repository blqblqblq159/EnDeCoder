{
 "cells": [
  {
   "cell_type": "code",
   "execution_count": 30,
   "id": "da4ca3b8",
   "metadata": {},
   "outputs": [],
   "source": [
    "import sys\n",
    "encoderpath = 'C:\\\\Users\\\\debrewa\\\\Documents\\\\Personal-projects\\\\EnDeCoder-webapp\\\\encoder'\n",
    "if encoderpath not in sys.path:\n",
    "    sys.path.append('C:\\\\Users\\\\debrewa\\\\Documents\\\\Personal-projects\\\\EnDeCoder-webapp\\\\encoder')"
   ]
  },
  {
   "cell_type": "code",
   "execution_count": 11,
   "id": "11e7fefd",
   "metadata": {},
   "outputs": [],
   "source": [
    "from encoder import caesar\n",
    "import pandas as pd\n",
    "import time\n",
    "import numpy as np\n",
    "import re\n",
    "import seaborn as sns\n",
    "import matplotlib.pyplot as plt"
   ]
  },
  {
   "cell_type": "code",
   "execution_count": 12,
   "id": "282f7b1f",
   "metadata": {},
   "outputs": [
    {
     "data": {
      "text/html": [
       "<div>\n",
       "<style scoped>\n",
       "    .dataframe tbody tr th:only-of-type {\n",
       "        vertical-align: middle;\n",
       "    }\n",
       "\n",
       "    .dataframe tbody tr th {\n",
       "        vertical-align: top;\n",
       "    }\n",
       "\n",
       "    .dataframe thead th {\n",
       "        text-align: right;\n",
       "    }\n",
       "</style>\n",
       "<table border=\"1\" class=\"dataframe\">\n",
       "  <thead>\n",
       "    <tr style=\"text-align: right;\">\n",
       "      <th></th>\n",
       "      <th>id</th>\n",
       "      <th>gender</th>\n",
       "      <th>age</th>\n",
       "      <th>topic</th>\n",
       "      <th>sign</th>\n",
       "      <th>date</th>\n",
       "      <th>text</th>\n",
       "    </tr>\n",
       "  </thead>\n",
       "  <tbody>\n",
       "    <tr>\n",
       "      <th>0</th>\n",
       "      <td>2059027</td>\n",
       "      <td>male</td>\n",
       "      <td>15</td>\n",
       "      <td>Student</td>\n",
       "      <td>Leo</td>\n",
       "      <td>14,May,2004</td>\n",
       "      <td>Info has been found (+/- 100 pages,...</td>\n",
       "    </tr>\n",
       "    <tr>\n",
       "      <th>1</th>\n",
       "      <td>2059027</td>\n",
       "      <td>male</td>\n",
       "      <td>15</td>\n",
       "      <td>Student</td>\n",
       "      <td>Leo</td>\n",
       "      <td>13,May,2004</td>\n",
       "      <td>These are the team members:   Drewe...</td>\n",
       "    </tr>\n",
       "    <tr>\n",
       "      <th>2</th>\n",
       "      <td>2059027</td>\n",
       "      <td>male</td>\n",
       "      <td>15</td>\n",
       "      <td>Student</td>\n",
       "      <td>Leo</td>\n",
       "      <td>12,May,2004</td>\n",
       "      <td>In het kader van kernfusie op aarde...</td>\n",
       "    </tr>\n",
       "    <tr>\n",
       "      <th>3</th>\n",
       "      <td>2059027</td>\n",
       "      <td>male</td>\n",
       "      <td>15</td>\n",
       "      <td>Student</td>\n",
       "      <td>Leo</td>\n",
       "      <td>12,May,2004</td>\n",
       "      <td>testing!!!  testing!!!</td>\n",
       "    </tr>\n",
       "    <tr>\n",
       "      <th>4</th>\n",
       "      <td>3581210</td>\n",
       "      <td>male</td>\n",
       "      <td>33</td>\n",
       "      <td>InvestmentBanking</td>\n",
       "      <td>Aquarius</td>\n",
       "      <td>11,June,2004</td>\n",
       "      <td>Thanks to Yahoo!'s Toolbar I can ...</td>\n",
       "    </tr>\n",
       "  </tbody>\n",
       "</table>\n",
       "</div>"
      ],
      "text/plain": [
       "        id gender  age              topic      sign          date  \\\n",
       "0  2059027   male   15            Student       Leo   14,May,2004   \n",
       "1  2059027   male   15            Student       Leo   13,May,2004   \n",
       "2  2059027   male   15            Student       Leo   12,May,2004   \n",
       "3  2059027   male   15            Student       Leo   12,May,2004   \n",
       "4  3581210   male   33  InvestmentBanking  Aquarius  11,June,2004   \n",
       "\n",
       "                                                text  \n",
       "0             Info has been found (+/- 100 pages,...  \n",
       "1             These are the team members:   Drewe...  \n",
       "2             In het kader van kernfusie op aarde...  \n",
       "3                   testing!!!  testing!!!            \n",
       "4               Thanks to Yahoo!'s Toolbar I can ...  "
      ]
     },
     "execution_count": 12,
     "metadata": {},
     "output_type": "execute_result"
    }
   ],
   "source": [
    "data = pd.read_csv('blogtext.csv')\n",
    "data.head()"
   ]
  },
  {
   "cell_type": "code",
   "execution_count": 13,
   "id": "f3155750",
   "metadata": {},
   "outputs": [
    {
     "data": {
      "text/plain": [
       "0               Info has been found (+/- 100 pages,...\n",
       "1               These are the team members:   Drewe...\n",
       "2               In het kader van kernfusie op aarde...\n",
       "Name: text, dtype: object"
      ]
     },
     "execution_count": 13,
     "metadata": {},
     "output_type": "execute_result"
    }
   ],
   "source": [
    "data['text'][0:3]"
   ]
  },
  {
   "cell_type": "code",
   "execution_count": 14,
   "id": "08cabce3",
   "metadata": {},
   "outputs": [],
   "source": [
    "import re\n",
    "import unicodedata\n",
    "\n",
    "def strip_accents(text):\n",
    "    \"\"\"\n",
    "    Strip accents from input String.\n",
    "\n",
    "    :param text: The input string.\n",
    "    :type text: String.\n",
    "\n",
    "    :returns: The processed String.\n",
    "    :rtype: String.\n",
    "    \"\"\"\n",
    "    try:\n",
    "        text = unicode(text, 'utf-8')\n",
    "    except (TypeError, NameError): # unicode is a default on python 3 \n",
    "        pass\n",
    "    text = unicodedata.normalize('NFD', text)\n",
    "    text = text.encode('ascii', 'ignore')\n",
    "    text = text.decode(\"utf-8\")\n",
    "    return str(text)"
   ]
  },
  {
   "cell_type": "code",
   "execution_count": 92,
   "id": "88f6ada1",
   "metadata": {},
   "outputs": [
    {
     "data": {
      "text/plain": [
       "21.330806016921997"
      ]
     },
     "execution_count": 92,
     "metadata": {},
     "output_type": "execute_result"
    }
   ],
   "source": [
    "start = time.time()\n",
    "\n",
    "enc = caesar.CaesarEncoder(\"\")\n",
    "source = list(data['text'][0:10000])\n",
    "processed_source = []\n",
    "for text in source:\n",
    "    text = re.sub(r'[!@#$(),\"%^*?:;~`0-9.\\'\\-&/=><{}+\\\\| ]', '', text)\n",
    "    text = re.sub(r'[\\[\\]]', '', text)\n",
    "    text = strip_accents(text)\n",
    "    # converting the text to lower case\n",
    "    text = text.lower()\n",
    "    # appending to data_list\n",
    "    processed_source.append(text)\n",
    "\n",
    "target = []\n",
    "rotations = []\n",
    "for text in processed_source:\n",
    "    enc.randomize()\n",
    "    enc.text = text\n",
    "    target.append(enc.encoded_text) \n",
    "    rotations.append(enc.rotation)\n",
    "    \n",
    "time.time()-start"
   ]
  },
  {
   "cell_type": "code",
   "execution_count": 93,
   "id": "becafa13",
   "metadata": {},
   "outputs": [],
   "source": [
    "from sklearn.preprocessing import LabelEncoder\n",
    "le = LabelEncoder()\n",
    "y = le.fit_transform(rotations)"
   ]
  },
  {
   "cell_type": "code",
   "execution_count": 94,
   "id": "9c268977",
   "metadata": {},
   "outputs": [],
   "source": [
    "from sklearn.model_selection import train_test_split\n",
    "target_train, target_test, y_train, y_test = train_test_split(target, y, test_size = 0.20)"
   ]
  },
  {
   "cell_type": "code",
   "execution_count": 95,
   "id": "d9ef2bb6",
   "metadata": {},
   "outputs": [
    {
     "data": {
      "text/plain": [
       "(8000, 7962)"
      ]
     },
     "execution_count": 95,
     "metadata": {},
     "output_type": "execute_result"
    }
   ],
   "source": [
    "from sklearn.feature_extraction.text import CountVectorizer\n",
    "cv = CountVectorizer()\n",
    "x_train = cv.fit_transform(target_train).toarray()\n",
    "x_test = cv.transform(target_test)\n",
    "x_train.shape"
   ]
  },
  {
   "cell_type": "code",
   "execution_count": 96,
   "id": "f4deefd6",
   "metadata": {},
   "outputs": [],
   "source": [
    "for i,x in enumerate(x_train):\n",
    "    if sum(x) > 1:\n",
    "        print(re.sub(r'[abcdefghijklmnopqrstuvwxyz]','',target_train[i]))\n",
    "        break"
   ]
  },
  {
   "cell_type": "code",
   "execution_count": 97,
   "id": "f4037050",
   "metadata": {},
   "outputs": [
    {
     "data": {
      "text/plain": [
       "MultinomialNB()"
      ]
     },
     "execution_count": 97,
     "metadata": {},
     "output_type": "execute_result"
    }
   ],
   "source": [
    "from sklearn.naive_bayes import MultinomialNB\n",
    "model = MultinomialNB()\n",
    "model.fit(x_train, y_train)"
   ]
  },
  {
   "cell_type": "code",
   "execution_count": 98,
   "id": "8c4c13a7",
   "metadata": {},
   "outputs": [],
   "source": [
    "y_pred = model.predict(x_test)"
   ]
  },
  {
   "cell_type": "code",
   "execution_count": 99,
   "id": "88a089ad",
   "metadata": {},
   "outputs": [
    {
     "name": "stdout",
     "output_type": "stream",
     "text": [
      "Accuracy is : 0.0445\n"
     ]
    }
   ],
   "source": [
    "from sklearn.metrics import accuracy_score, confusion_matrix, classification_report\n",
    "ac = accuracy_score(y_test, y_pred)\n",
    "cm = confusion_matrix(y_test, y_pred)\n",
    "\n",
    "print(\"Accuracy is :\",ac)"
   ]
  },
  {
   "cell_type": "code",
   "execution_count": 100,
   "id": "a40c28ad",
   "metadata": {},
   "outputs": [
    {
     "data": {
      "image/png": "[encoded data removed]",
      "text/plain": [
       "<Figure size 1080x720 with 2 Axes>"
      ]
     },
     "metadata": {
      "needs_background": "light"
     },
     "output_type": "display_data"
    }
   ],
   "source": [
    "plt.figure(figsize=(15,10))\n",
    "sns.heatmap(cm, annot = True)\n",
    "plt.show()"
   ]
  },
  {
   "cell_type": "code",
   "execution_count": 53,
   "id": "4ca52190",
   "metadata": {},
   "outputs": [
    {
     "data": {
      "text/plain": [
       "array([[3.00952735e-14, 4.18352275e-14, 8.22683898e-11, 3.15215741e-15,\n",
       "        1.77122001e-06, 2.72939004e-07, 2.32501613e-13, 2.28650296e-15,\n",
       "        1.02663741e-11, 3.69762293e-13, 5.11001895e-07, 5.69665894e-14,\n",
       "        8.09958268e-13, 3.31300974e-07, 9.99969411e-01, 1.98195349e-15,\n",
       "        3.19675556e-14, 9.20574259e-14, 2.47175969e-14, 3.24440940e-11,\n",
       "        1.99143874e-10, 7.87172601e-15, 2.53467415e-15, 6.34053316e-16,\n",
       "        2.77025150e-05, 1.08964534e-11]])"
      ]
     },
     "execution_count": 53,
     "metadata": {},
     "output_type": "execute_result"
    }
   ],
   "source": [
    "wrong_pred = x_test[y_pred != y_test][-2].reshape(1, -1)\n",
    "wrong_proba = model.predict_proba(wrong_pred)\n",
    "wrong_proba"
   ]
  },
  {
   "cell_type": "code",
   "execution_count": 54,
   "id": "5ea070c2",
   "metadata": {},
   "outputs": [
    {
     "data": {
      "text/plain": [
       "[array(['bm', 'cs', 'erikk', 'ghc', 'hc', 'ig', 'imjcemk', 'kkk', 'mqr',\n",
       "        'mt', 'npmepykgpy', 'npmhcir', 'npmqjytjhyjg', 'ny', 'qc', 'qipgt',\n",
       "        'qjmtc', 'qty', 'rpc', 'sr', 'sčgk', 'tqrmny', 'xcjm', 'xyčcjy',\n",
       "        'yirgt', 'zmkm', 'šc', 'šrgpg'], dtype='<U305')]"
      ]
     },
     "execution_count": 54,
     "metadata": {},
     "output_type": "execute_result"
    }
   ],
   "source": [
    "orig = cv.inverse_transform(wrong_pred)\n",
    "orig"
   ]
  }
 ],
 "metadata": {
  "kernelspec": {
   "display_name": "Python 3 (ipykernel)",
   "language": "python",
   "name": "python3"
  },
  "language_info": {
   "codemirror_mode": {
    "name": "ipython",
    "version": 3
   },
   "file_extension": ".py",
   "mimetype": "text/x-python",
   "name": "python",
   "nbconvert_exporter": "python",
   "pygments_lexer": "ipython3",
   "version": "3.9.9"
  }
 },
 "nbformat": 4,
 "nbformat_minor": 5
}
